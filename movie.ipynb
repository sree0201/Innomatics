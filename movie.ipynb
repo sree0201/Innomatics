{
 "cells": [
  {
   "cell_type": "code",
   "execution_count": 8,
   "metadata": {},
   "outputs": [],
   "source": [
    "import pandas as pa\n",
    "dfr = pa.read_csv('ratings.csv')\n",
    "dfm = pa.read_csv('movies.csv')\n",
    "dft = pa.read_csv('tags.csv')\n",
    "dfl = pa.read_csv('links.csv')\n"
   ]
  },
  {
   "cell_type": "code",
   "execution_count": 9,
   "metadata": {},
   "outputs": [
    {
     "name": "stdout",
     "output_type": "stream",
     "text": [
      "610\n"
     ]
    }
   ],
   "source": [
    "number_of_unique_userIds = dfr['userId'].nunique()\n",
    "print(number_of_unique_userIds)"
   ]
  },
  {
   "cell_type": "code",
   "execution_count": 10,
   "metadata": {},
   "outputs": [
    {
     "name": "stdout",
     "output_type": "stream",
     "text": [
      "Movie with the most ratings: 356\n"
     ]
    }
   ],
   "source": [
    "movie_rating_counts = dfr['movieId'].value_counts()\n",
    "\n",
    "movie_id_with_max_ratings = movie_rating_counts.idxmax()\n",
    "print(f\"Movie with the most ratings: {movie_id_with_max_ratings}\")"
   ]
  },
  {
   "cell_type": "code",
   "execution_count": 13,
   "metadata": {},
   "outputs": [
    {
     "name": "stdout",
     "output_type": "stream",
     "text": [
      "The data distribution of user ratings for Fight Club (1999) appears to be...\n"
     ]
    },
    {
     "data": {
      "image/png": "[encoded data removed]",
      "text/plain": [
       "<Figure size 640x480 with 1 Axes>"
      ]
     },
     "metadata": {},
     "output_type": "display_data"
    }
   ],
   "source": [
    "fight_club_ratings = dfr[dfr['movieId'] == 5]['rating']\n",
    "\n",
    "import matplotlib.pyplot as plt\n",
    "plt.hist(fight_club_ratings)\n",
    "plt.xlabel(\"Rating\")\n",
    "plt.ylabel(\"Frequency\")\n",
    "plt.title(\"Distribution of user ratings for Fight Club (1999)\")\n",
    "print(\"The data distribution of user ratings for Fight Club (1999) appears to be...\")"
   ]
  },
  {
   "cell_type": "code",
   "execution_count": null,
   "metadata": {},
   "outputs": [],
   "source": [
    "sorted_df = dfm.sort_values(by='rating', ascending=False)\n",
    "\n",
    "# Get the movie title with the highest average rating\n",
    "most_popular_movie = sorted_df['movieTitle'].iloc[0]\n"
   ]
  },
  {
   "cell_type": "code",
   "execution_count": null,
   "metadata": {},
   "outputs": [],
   "source": [
    "most_popular_movie = df[df['averageRating'] == df['averageRating'].max()]['movieTitle'].iloc[0]\n",
    "\n",
    "print(\"The most popular movie based on average user ratings is:\", most_popular_movie)"
   ]
  },
  {
   "cell_type": "code",
   "execution_count": null,
   "metadata": {},
   "outputs": [],
   "source": [
    "df = df.sort_values(by='numRatings', ascending=False)\n",
    "\n",
    "top_5_movies = df['movieTitle'].head(5).tolist()\n",
    "\n",
    "print(\"The top 5 popular movies based on number of user ratings are:\")\n",
    "for movie in top_5_movies:\n",
    "    print(movie)"
   ]
  },
  {
   "cell_type": "code",
   "execution_count": null,
   "metadata": {},
   "outputs": [],
   "source": [
    "df = df.sort_values(by='numRatings', ascending=False)\n",
    "\n",
    "# Get the top 5 movie titles\n",
    "top_5_movies = df['movieTitle'].head(5).tolist()\n",
    "\n",
    "print(\"The top 5 popular movies based on number of user ratings are:\")\n",
    "for movie in top_5_movies:\n",
    "    print(movie)"
   ]
  },
  {
   "cell_type": "code",
   "execution_count": null,
   "metadata": {},
   "outputs": [],
   "source": [
    "sci_fi_movies = df[df['genre'] == \"Sci-Fi\"]\n",
    "sci_fi_movies = sci_fi_movies.sort_values(by='numRatings', ascending=False)\n",
    "\n",
    "third_most_popular_sci_fi = sci_fi_movies['movieTitle'].iloc[2]\n",
    "\n",
    "print(\"The third most popular Sci-Fi movie based on number of user ratings is:\")\n",
    "print(third_most_popular_sci_fi)"
   ]
  },
  {
   "cell_type": "code",
   "execution_count": null,
   "metadata": {},
   "outputs": [],
   "source": [
    "df_sorted = df.sort_values(by='imdbRating', ascending=False)\n",
    "\n",
    "highest_rated_movie_id = df_sorted['movieId'].iloc[0]\n",
    "\n",
    "print(f\"The movieId of the movie with the highest IMDb rating is: {highest_rated_movie_id}\")"
   ]
  },
  {
   "cell_type": "code",
   "execution_count": null,
   "metadata": {},
   "outputs": [],
   "source": [
    "sci_fi_movies = df[df['genre'] == 'Sci-Fi']\n",
    "sci_fi_sorted = sci_fi_movies.sort_values(by='imdbRating', ascending=False)\n",
    "highest_rated_sci_fi_movie_id = sci_fi_sorted['movieId'].iloc[0]\n",
    "print(f\"The movieId of the Sci-Fi movie with the highest IMDb rating is: {highest_rated_sci_fi_movie_id}\")"
   ]
  }
 ],
 "metadata": {
  "kernelspec": {
   "display_name": "Python 3",
   "language": "python",
   "name": "python3"
  },
  "language_info": {
   "codemirror_mode": {
    "name": "ipython",
    "version": 3
   },
   "file_extension": ".py",
   "mimetype": "text/x-python",
   "name": "python",
   "nbconvert_exporter": "python",
   "pygments_lexer": "ipython3",
   "version": "3.11.5"
  }
 },
 "nbformat": 4,
 "nbformat_minor": 2
}
